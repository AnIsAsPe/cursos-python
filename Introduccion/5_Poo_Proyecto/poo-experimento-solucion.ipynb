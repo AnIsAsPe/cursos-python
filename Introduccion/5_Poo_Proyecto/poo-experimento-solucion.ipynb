{
 "cells": [
  {
   "cell_type": "markdown",
   "metadata": {},
   "source": [
    "[![Open In Colab](https://colab.research.google.com/assets/colab-badge.svg)](https://colab.research.google.com/github/institutohumai/cursos-python/blob/mg-poo/Introduccion/5_Poo_Proyecto/poo-experimento-solucion.ipynb)"
   ]
  },
  {
   "cell_type": "code",
   "execution_count": 2,
   "metadata": {},
   "outputs": [
    {
     "name": "stdout",
     "output_type": "stream",
     "text": [
      "Requirement already satisfied: python-docx in /home/matias/anaconda3/lib/python3.7/site-packages (0.8.10)\n",
      "Requirement already satisfied: lxml>=2.3.2 in /home/matias/anaconda3/lib/python3.7/site-packages (from python-docx) (4.5.0)\n"
     ]
    }
   ],
   "source": [
    "!pip install python-docx"
   ]
  },
  {
   "cell_type": "markdown",
   "metadata": {},
   "source": [
    "## Caso Integrador de POO: Experimento\n",
    "\n",
    "En esta clase vamos a utilizar conceptos de POO para crear una batería de experimentos:\n",
    "\n",
    "- Tiempo de Reacción\n",
    "- Cuestionario\n",
    "\n",
    "Para eso, tendremos una clase Sujeto con un id de sujeto, una clase abstracta Experimento de la cual heredarán las de Tiempo de Reacción y Cuestionario, y una clase para generar un Reporte."
   ]
  },
  {
   "cell_type": "markdown",
   "metadata": {},
   "source": [
    "Empezamos creando una clase para definir el *sujeto* del experimento. Con la función <code> __init__</code> vamos a definir las variables que inicializan la clase en cuestión."
   ]
  },
  {
   "cell_type": "code",
   "execution_count": 3,
   "metadata": {},
   "outputs": [],
   "source": [
    "class Sujeto():\n",
    "    def __init__(self, sujeto_id, *info): #info puede recibir múltiples argumentos\n",
    "        self.id = sujeto_id\n",
    "        self.info = info"
   ]
  },
  {
   "cell_type": "markdown",
   "metadata": {},
   "source": [
    "Veamos como funciona nuestra clase."
   ]
  },
  {
   "cell_type": "code",
   "execution_count": 4,
   "metadata": {},
   "outputs": [],
   "source": [
    "# Instanciamos\n",
    "info = {'edad':22, 'fecha_nacimiento':'01-01-1998', 'años_educacion':6}\n",
    "sujeto = Sujeto('123456789', info)"
   ]
  },
  {
   "cell_type": "code",
   "execution_count": 5,
   "metadata": {},
   "outputs": [
    {
     "name": "stdout",
     "output_type": "stream",
     "text": [
      "ID: 123456789\n",
      "Información: ({'edad': 22, 'fecha_nacimiento': '01-01-1998', 'años_educacion': 6},)\n"
     ]
    }
   ],
   "source": [
    "# Llamamos los atributos\n",
    "print('ID:', sujeto.id)\n",
    "print('Información:', sujeto.info)"
   ]
  },
  {
   "cell_type": "markdown",
   "metadata": {},
   "source": [
    "Una vez que ya contamos con sujeto. Definimos una clase para la realización del experimento.  \n",
    "\n",
    "La clase tendrá tres métodos:\n",
    ">- instruccion: dará una pauta sobre como realizar el experimento.\n",
    ">- corregir_datos: toma los datos crudos y calcula un resultado\n",
    ">- tomar_experimento: realizará el experimento."
   ]
  },
  {
   "cell_type": "code",
   "execution_count": 6,
   "metadata": {},
   "outputs": [],
   "source": [
    "class Experimento():\n",
    "    def __init__(self, sujeto: Sujeto, consigna='atencion!', nombre='Experimento'):\n",
    "        self.datos = []\n",
    "        self.nombre = nombre\n",
    "        self.resultados = dict()\n",
    "        \n",
    "    def instruccion(self):\n",
    "        print(consigna)\n",
    "    \n",
    "    def corregir_datos(self):\n",
    "        pass\n",
    "    \n",
    "    def tomar_experimento(self):\n",
    "        pass"
   ]
  },
  {
   "cell_type": "code",
   "execution_count": 7,
   "metadata": {},
   "outputs": [],
   "source": [
    "exp = Experimento(sujeto)"
   ]
  },
  {
   "cell_type": "code",
   "execution_count": 8,
   "metadata": {},
   "outputs": [
    {
     "data": {
      "text/plain": [
       "'Experimento'"
      ]
     },
     "execution_count": 8,
     "metadata": {},
     "output_type": "execute_result"
    }
   ],
   "source": [
    "exp.nombre"
   ]
  },
  {
   "cell_type": "markdown",
   "metadata": {},
   "source": [
    "La clase TiempoDeReaccion hereda los metodos y atributos de la clase Experimento. Para tomar el experimento se utilizarán dos modulos/librerias: *time* y *random*. Un modulo o libreria es un paquete de funciones. \n",
    "\n",
    ">- Time, nos va a ayudar a calcular el tiempo durante nuestro experimento.  \n",
    ">- Random, nos va a permitir generar números aleatorios.\n",
    "\n",
    "Como contamos con funciones <code>__init__</code> muy similares podemos inicializarlas con el método <code>__super()__</code>."
   ]
  },
  {
   "cell_type": "markdown",
   "metadata": {},
   "source": [
    "Ejercicio: crear una función *tomar_experimento* que tome un experimento de reacción, recibiendo como argumento \"pausa_promedio\", que es promedio que demorará entre un estímulo y el siguiente.\n",
    "\n",
    "Usando:\n",
    "\n",
    "- La función time.time() devuelve el tiempo actual en segundos\n",
    "- La función random.random() genera un número aleatorio entre 0 y 1\n",
    "- La función time.sleep(s) hace una pausa de *s* segundos\n",
    "\n",
    "La función *input()* pide una entrada al usuario, bloqueando la ejecución hasta entonces. "
   ]
  },
  {
   "cell_type": "code",
   "execution_count": 22,
   "metadata": {},
   "outputs": [],
   "source": [
    "import time\n",
    "import random"
   ]
  },
  {
   "cell_type": "code",
   "execution_count": 10,
   "metadata": {},
   "outputs": [],
   "source": [
    "def tomar_experimento(n_trials, pausa_promedio=10):\n",
    "    pass"
   ]
  },
  {
   "cell_type": "code",
   "execution_count": 11,
   "metadata": {},
   "outputs": [],
   "source": [
    "class TiempoDeReaccion(Experimento): \n",
    "    '''Hereda la clase Experimento'''\n",
    "    def __init__(self, *args, nombre='Tiempo de Reacción'):\n",
    "        super().__init__(*args, nombre=nombre)\n",
    "    \n",
    "    def corregir_datos(self):\n",
    "        self.resultados['Media'] = sum(self.datos) / len(self.datos)\n",
    "        self.resultados['Desvio Estandar'] = sum([(x - self.resultados['Media'])**2 for x in self.datos])\n",
    "\n",
    "    # Usar la función tomar_experimento, esta vez con self en los argumentos\n",
    "    # y guardar el resultado en self.datos\n",
    "    # Al final del experimento, llamar a la función \"corregir_datos\"\n",
    "    \n",
    "    # Completar\n",
    "    def tomar_experimento(self, n_trials, pausa_promedio=10):\n",
    "        import time\n",
    "        import random\n",
    "        \n",
    "        for n in range(n_trials):\n",
    "            t0 = time.time() # tiempo inicial\n",
    "            pausa = random.random() * pausa_promedio\n",
    "            input('Apretá ENTER!')\n",
    "            time.sleep(pausa)\n",
    "            t1 = time.time() - t0 # diferencia de tiempo\n",
    "            self.datos.append(t1)\n",
    "        self.corregir_datos()\n",
    "            "
   ]
  },
  {
   "cell_type": "markdown",
   "metadata": {},
   "source": [
    "### Utilizando nuestra clase.\n",
    "\n",
    "1. Generar un ID aleatorio con random.random(), quedandonos solo con la parte decimal del ID\n",
    "3. Instanciar el objeto Sujeto\n",
    "4. Instanciar el objeto TiempoDeReaccion con la anterior instancia.\n",
    "5. Llamar el metodo tomar_experimento.\n",
    "6. Llamar al atributo **datos** y **resultados** ver que contiene."
   ]
  },
  {
   "cell_type": "code",
   "execution_count": 12,
   "metadata": {},
   "outputs": [],
   "source": [
    "# Generar ID random\n",
    "import random\n",
    "\n",
    "sujeto_id = random.random()"
   ]
  },
  {
   "cell_type": "code",
   "execution_count": 13,
   "metadata": {},
   "outputs": [],
   "source": [
    "# Instanciar Sujeto\n",
    "sujeto = Sujeto(sujeto_id)"
   ]
  },
  {
   "cell_type": "code",
   "execution_count": 14,
   "metadata": {},
   "outputs": [],
   "source": [
    "# Instanciar TiempoDeReaccion\n",
    "tr = TiempoDeReaccion(sujeto)"
   ]
  },
  {
   "cell_type": "code",
   "execution_count": 15,
   "metadata": {},
   "outputs": [
    {
     "name": "stdin",
     "output_type": "stream",
     "text": [
      "Apretá ENTER! \n",
      "Apretá ENTER! \n",
      "Apretá ENTER! \n",
      "Apretá ENTER! \n",
      "Apretá ENTER! \n"
     ]
    }
   ],
   "source": [
    "# Llamar metodo tomar_experimento\n",
    "tr.tomar_experimento(5, 3)"
   ]
  },
  {
   "cell_type": "markdown",
   "metadata": {},
   "source": [
    "¿Que datos contiene?"
   ]
  },
  {
   "cell_type": "code",
   "execution_count": 16,
   "metadata": {},
   "outputs": [
    {
     "data": {
      "text/plain": [
       "[2.4558544158935547,\n",
       " 0.5851657390594482,\n",
       " 3.2840609550476074,\n",
       " 2.371398448944092,\n",
       " 1.0673623085021973]"
      ]
     },
     "execution_count": 16,
     "metadata": {},
     "output_type": "execute_result"
    }
   ],
   "source": [
    "# Llamamos un atributo\n",
    "tr.datos"
   ]
  },
  {
   "cell_type": "code",
   "execution_count": 17,
   "metadata": {},
   "outputs": [
    {
     "data": {
      "text/plain": [
       "{'Media': 1.95276837348938, 'Desvio Estandar': 4.854967509464859}"
      ]
     },
     "execution_count": 17,
     "metadata": {},
     "output_type": "execute_result"
    }
   ],
   "source": [
    "tr.resultados"
   ]
  },
  {
   "cell_type": "markdown",
   "metadata": {},
   "source": [
    "## Prueba 2: Cuestionario"
   ]
  },
  {
   "cell_type": "markdown",
   "metadata": {},
   "source": [
    "Generamos un cuestionario de ejemplo:"
   ]
  },
  {
   "cell_type": "code",
   "execution_count": 18,
   "metadata": {},
   "outputs": [],
   "source": [
    "with open('cuestionario.txt', 'w') as out:\n",
    "    out.write(\n",
    "'''1. Me siento calmado.\n",
    "2. Me siento seguro.\n",
    "3. Estoy tenso.\n",
    "4. Estoy contrariado.\n",
    "5. Me siento a gusto.''')"
   ]
  },
  {
   "cell_type": "code",
   "execution_count": 19,
   "metadata": {},
   "outputs": [],
   "source": [
    "class Cuestionario(Experimento):\n",
    "    def __init__(self, path_cuestionario, *args, **kwargs):\n",
    "        super().__init__(*args, **kwargs)\n",
    "        self.cargar_preguntas(path_cuestionario)\n",
    "        \n",
    "    def cargar_preguntas(self, path):\n",
    "        # COMPLETAR\n",
    "        # Función que lee el txt y guarda cada renglón en self.preguntas\n",
    "        with open(path, 'r') as f:\n",
    "            preguntas = f.read().split('\\n') # por renglon \n",
    "        self.preguntas = preguntas\n",
    "        \n",
    "    def corregir_datos(self):\n",
    "        self.resultados['Total'] = sum(self.datos)\n",
    "        \n",
    "    def tomar_experimento(self):\n",
    "        # COMPLETAR\n",
    "        # Dar la instruccion\n",
    "        # Para cada pregunta, hacerla con input\n",
    "        # Convertir la entrada a entero\n",
    "        # Guardarla en self.datos\n",
    "        # Al finalizar, ejecutar corregir_datos\n",
    "        self.instruccion()\n",
    "        for pre in self.preguntas:\n",
    "            respuesta = input(pre)\n",
    "            self.datos.append(int(respuesta))\n",
    "        self.corregir_datos()\n",
    "        \n",
    "        # Agregar un chequeo de respuesta correcta y que sea int"
   ]
  },
  {
   "cell_type": "code",
   "execution_count": 20,
   "metadata": {},
   "outputs": [],
   "source": [
    "consigna = '''Aparecerán abajo algunas expresiones que las personas usan para describirse. Lea cada frase y presione el número que indique cómo se siente ahora mismo, \n",
    "siendo 0 = NO, 1 = POCO, 2 = BASTANTE, 3 = MUCHO. \n",
    "No hay contestaciones buenas o malas. No emplee mucho tiempo en cada frase, pero trate de dar la \n",
    "respuesta que mejor describa sus sentimientos ahora.\n",
    "'''\n",
    "\n",
    "stai = Cuestionario('cuestionario.txt',sujeto, consigna = consigna, nombre='Cuestionario')"
   ]
  },
  {
   "cell_type": "code",
   "execution_count": 21,
   "metadata": {},
   "outputs": [
    {
     "name": "stdout",
     "output_type": "stream",
     "text": [
      "Aparecerán abajo algunas expresiones que las personas usan para describirse. Lea cada frase y presione el número que indique cómo se siente ahora mismo, \n",
      "siendo 0 = NO, 1 = POCO, 2 = BASTANTE, 3 = MUCHO. \n",
      "No hay contestaciones buenas o malas. No emplee mucho tiempo en cada frase, pero trate de dar la \n",
      "respuesta que mejor describa sus sentimientos ahora.\n",
      "\n"
     ]
    },
    {
     "name": "stdin",
     "output_type": "stream",
     "text": [
      "1. Me siento calmado. 0\n",
      "2. Me siento seguro. 2\n",
      "3. Estoy tenso. 1\n",
      "4. Estoy contrariado. 4\n",
      "5. Me siento a gusto. 5\n"
     ]
    }
   ],
   "source": [
    "stai.tomar_experimento()"
   ]
  },
  {
   "cell_type": "code",
   "execution_count": 35,
   "metadata": {},
   "outputs": [
    {
     "data": {
      "text/plain": [
       "{'Total': 10}"
      ]
     },
     "execution_count": 35,
     "metadata": {},
     "output_type": "execute_result"
    }
   ],
   "source": [
    "stai.resultados"
   ]
  },
  {
   "cell_type": "markdown",
   "metadata": {},
   "source": [
    "Una vez realizado el ejercicio vamos a generar una clase para realizar el reporte del experimento.\n",
    "\n",
    "La clase Reporte va a generar un documento que contendrá: \n",
    "- Una plantilla/imagen para generar el documento; \n",
    "- Un metodo para analizar los datos resultado del experimento;\n",
    "- Un metodo para crear gráficos a partir de los resultados."
   ]
  },
  {
   "cell_type": "code",
   "execution_count": 37,
   "metadata": {},
   "outputs": [
    {
     "data": {
      "image/png": "[encoded data removed]",
      "text/plain": [
       "<Figure size 432x288 with 1 Axes>"
      ]
     },
     "metadata": {
      "needs_background": "light"
     },
     "output_type": "display_data"
    }
   ],
   "source": [
    "import seaborn as sns\n",
    "import matplotlib.pyplot as plt\n",
    "\n",
    "plt.hist([1,2,3,6,4,1,2,3,2,4]);"
   ]
  },
  {
   "cell_type": "code",
   "execution_count": null,
   "metadata": {},
   "outputs": [],
   "source": [
    "import seaborn as sns\n",
    "import matplotlib.pyplot as plt\n",
    "\n",
    "class Reporte():\n",
    "    '''Esta clase va a generar un reporte a partir de un Experimento'''\n",
    "    def __init__(self, experimento: Experimento, img_path = 'tmp.png'):\n",
    "        self.suj = sujeto\n",
    "        self.exp = experimento\n",
    "        self.img_path = img_path\n",
    "    \n",
    "    def crear_graficos(self):\n",
    "        # Explicación Matplotlib \n",
    "        fig, ax = plt.subplots(1,2, figsize=(11,4))\n",
    "        ax[0].plot(self.exp.datos)\n",
    "        ax[0].set_ylabel('Error (ms)')\n",
    "        ax[0].set_xlabel('Trials')\n",
    "        sns.distplot(self.exp.datos, ax=ax[1])\n",
    "        ax[1].set_ylabel('Frequencia')\n",
    "        ax[1].set_xlabel('Error (ms)')\n",
    "        return ax\n",
    "        \n",
    "    def generar_reporte(self):\n",
    "        #https://python-docx.readthedocs.io/en/latest/\n",
    "        \n",
    "        from docx import Document\n",
    "        from docx.shared import Cm\n",
    "        \n",
    "        document = Document()\n",
    "        \n",
    "        # Agregamos un Titulo\n",
    "        document.add_heading(f'{self.exp.nombre}', 0)\n",
    "        p = document.add_paragraph('ID del sujeto: ')\n",
    "        p.add_run(f'{self.suj.id}').bold = True\n",
    "        \n",
    "        # Agregamos Resultados, podemos usar distintos estilos\n",
    "        document.add_paragraph(f'Resultados', style='Intense Quote')\n",
    "        \n",
    "        # COMPLETAR\n",
    "        # para cada dato en el diccionario de resultados,\n",
    "        # agregar un parrafo con ese dato \n",
    "        for k, v in self.exp.resultados.items():\n",
    "            document.add_paragraph(f'{k}= {v}', \n",
    "                                   \n",
    "                                   style='List Bullet')\n",
    "\n",
    "        # Agregamos el Grafico\n",
    "        ax = self.crear_graficos()\n",
    "        plt.savefig(self.img_path)\n",
    "        plt.close()\n",
    "        \n",
    "        document.add_picture(self.img_path, width=Cm(14))\n",
    "        fp = f'reporte_{self.suj.id}.docx'\n",
    "        document.save(fp)\n",
    "        return fp"
   ]
  },
  {
   "cell_type": "code",
   "execution_count": null,
   "metadata": {},
   "outputs": [],
   "source": [
    "# Instanciamos\n",
    "rep = Reporte(tr)"
   ]
  },
  {
   "cell_type": "code",
   "execution_count": null,
   "metadata": {},
   "outputs": [],
   "source": [
    "# Generar reporte\n",
    "fp = rep.generar_reporte()"
   ]
  },
  {
   "cell_type": "code",
   "execution_count": 41,
   "metadata": {},
   "outputs": [
    {
     "data": {
      "text/plain": [
       "{'Media': 1.4439297199249268, 'Desvio Estandar': 2.1900368243026835}"
      ]
     },
     "execution_count": 41,
     "metadata": {},
     "output_type": "execute_result"
    }
   ],
   "source": [
    "rep.exp.resultados"
   ]
  },
  {
   "cell_type": "code",
   "execution_count": null,
   "metadata": {},
   "outputs": [],
   "source": [
    "from google.colab import files\n",
    "\n",
    "files.download(fp)"
   ]
  }
 ],
 "metadata": {
  "kernelspec": {
   "display_name": "Python 3",
   "language": "python",
   "name": "python3"
  },
  "language_info": {
   "codemirror_mode": {
    "name": "ipython",
    "version": 3
   },
   "file_extension": ".py",
   "mimetype": "text/x-python",
   "name": "python",
   "nbconvert_exporter": "python",
   "pygments_lexer": "ipython3",
   "version": "3.7.7"
  }
 },
 "nbformat": 4,
 "nbformat_minor": 4
}
